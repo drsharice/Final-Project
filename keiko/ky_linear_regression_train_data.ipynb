{
 "cells": [
  {
   "cell_type": "code",
   "execution_count": null,
   "metadata": {},
   "outputs": [],
   "source": [
    "import pandas as pd\n",
    "import matplotlib.pyplot as plt\n",
    "import os\n",
    "import numpy as np"
   ]
  },
  {
   "cell_type": "code",
   "execution_count": null,
   "metadata": {},
   "outputs": [],
   "source": [
    "train_df = pd.read_csv(\"data/train_new.csv\")\n",
    "\n",
    "# Drop the null rows\n",
    "train_df = train_df.dropna()\n",
    "train_df = train_df.drop(columns = ['Date of Joining'])\n",
    "\n",
    "train_df.count()"
   ]
  },
  {
   "cell_type": "code",
   "execution_count": null,
   "metadata": {},
   "outputs": [],
   "source": [
    "train_df"
   ]
  },
  {
   "cell_type": "code",
   "execution_count": null,
   "metadata": {},
   "outputs": [],
   "source": [
    "selected_features = train_df.drop(columns = ['Burn Rate'])\n",
    "\n",
    "selected_features"
   ]
  },
  {
   "cell_type": "code",
   "execution_count": null,
   "metadata": {},
   "outputs": [],
   "source": [
    "#split train test\n",
    "from sklearn.model_selection import train_test_split\n",
    "\n",
    "X_train, X_test, y_train, y_test = train_test_split(selected_features, train_df['Burn Rate'], random_state=1, stratify = train_df['Burn Rate'])"
   ]
  },
  {
   "cell_type": "code",
   "execution_count": null,
   "metadata": {},
   "outputs": [],
   "source": [
    "y_test"
   ]
  },
  {
   "cell_type": "code",
   "execution_count": null,
   "metadata": {},
   "outputs": [],
   "source": [
    "#Scale data\n",
    "from sklearn.preprocessing import MinMaxScaler\n",
    "\n",
    "X_scaler = MinMaxScaler().fit(X_train)\n",
    "X_scale_train = X_scaler.transform(X_train)\n",
    "X_scale_test = X_scaler.transform(X_test)\n"
   ]
  },
  {
   "cell_type": "code",
   "execution_count": null,
   "metadata": {},
   "outputs": [],
   "source": [
    "#Train the model \n",
    "from sklearn.linear_model import LinearRegression\n",
    "from sklearn import preprocessing\n",
    "from sklearn import utils \n",
    "\n",
    "lin_regr_model = LinearRegression()\n",
    "lin_regr_model\n"
   ]
  },
  {
   "cell_type": "code",
   "execution_count": null,
   "metadata": {
    "scrolled": true
   },
   "outputs": [],
   "source": [
    "#fit model\n",
    "\n",
    "lin_regr_model.fit(X_train, y_train)"
   ]
  },
  {
   "cell_type": "code",
   "execution_count": null,
   "metadata": {},
   "outputs": [],
   "source": [
    "print(f\"Training Data Score: {lin_regr_model.score(X_train, y_train)}\")\n",
    "print(f\"Testing Data Score: {lin_regr_model.score(X_test, y_test)}\")"
   ]
  },
  {
   "cell_type": "code",
   "execution_count": null,
   "metadata": {
    "scrolled": true
   },
   "outputs": [],
   "source": [
    "predictions = lin_regr_model.predict(X_test)\n",
    "print(f\"First 10 Predictions:   {predictions[:10]}\")\n",
    "print(f\"First 10 Actual labels: {y_test[:10].tolist()}\")"
   ]
  },
  {
   "cell_type": "code",
   "execution_count": null,
   "metadata": {},
   "outputs": [],
   "source": [
    "pd.DataFrame({\"Prediction\": predictions, \"Actual\": y_test}).reset_index(drop=True)"
   ]
  },
  {
   "cell_type": "code",
   "execution_count": null,
   "metadata": {},
   "outputs": [],
   "source": [
    "#SVR\n",
    "\n",
    "from sklearn.svm import SVR\n",
    "from sklearn.preprocessing import StandardScaler\n",
    "from sklearn.pipeline import Pipeline\n",
    "\n",
    "pipe = Pipeline([('scaler', StandardScaler()), ('svr', SVR())])\n",
    "# The pipeline can be used as any other estimator\n",
    "# and avoids leaking the test set into the train set\n",
    "pipe.fit(X_train, y_train)\n",
    "# Pipeline(steps=[('scaler', StandardScaler()), ('svr', SVR())])\n",
    "# pipe.score(X_test, y_test)\n",
    "pipe.predict(X_test)"
   ]
  },
  {
   "cell_type": "code",
   "execution_count": null,
   "metadata": {},
   "outputs": [],
   "source": [
    "#Random Forest Regressor\n",
    "\n",
    "from sklearn.ensemble import RandomForestRegressor\n",
    "\n",
    "rf_model = RandomForestRegressor()\n",
    "rf_model.fit(X_train, y_train)\n",
    "\n",
    "train_pred_rf = rf_model.score(X_train, y_train)\n",
    "\n",
    "print (f'Score {train_pred_rf}')\n"
   ]
  },
  {
   "cell_type": "code",
   "execution_count": null,
   "metadata": {},
   "outputs": [],
   "source": [
    "# Save the model\n",
    "\n",
    "from joblib import dump, load\n",
    "dump(lin_regr_model, 'linear_regression_model.joblib') "
   ]
  },
  {
   "cell_type": "code",
   "execution_count": null,
   "metadata": {},
   "outputs": [],
   "source": [
    "# Load the model\n",
    "loaded_lin_model = load('linear_regression_model.joblib')"
   ]
  },
  {
   "cell_type": "code",
   "execution_count": null,
   "metadata": {},
   "outputs": [],
   "source": [
    "#evaluating loaded model \n",
    "\n",
    "score = loaded_lin_model.score(X_test, y_test)\n",
    "print(\"Test score: {0:.2f} %\".format(100 * score))\n",
    "\n"
   ]
  },
  {
   "cell_type": "code",
   "execution_count": null,
   "metadata": {},
   "outputs": [],
   "source": [
    "# New data to predict\n",
    "pr = pd.read_csv('data/test_new.csv')\n",
    "\n",
    "# apply the whole pipeline to data\n",
    "pred = pipe.predict(X_test)\n",
    "print (pred)"
   ]
  },
  {
   "cell_type": "code",
   "execution_count": null,
   "metadata": {},
   "outputs": [],
   "source": [
    "#testing random input \n",
    "\n",
    "new_data = [1, 0, 1, 3, 10, 8.2]\n",
    "\n",
    "pred = pipe.predict([new_data])\n",
    "print(pred)"
   ]
  },
  {
   "cell_type": "code",
   "execution_count": null,
   "metadata": {},
   "outputs": [],
   "source": [
    "#Order of Columns\n",
    "# Gender: 0 = Male, 1 = Female \n",
    "# Company type: 0 = Service, 1 = Product \n",
    "# WFH Setup: 0 = No, 1 = Yes \n",
    "# Designation = position of emplyee in workplace (range 0-5) high number is high designation\n",
    "# Resource Allocation = number of working hours (range 1-10) \n",
    "# Menatal Fatigue = level of fatigue mentally the employee is facing. (range 0.0-10.0)\n",
    "\n",
    "new_data = [0, 0, 1, 3, 10, 8.2]\n",
    "\n",
    "pred = pipe.predict([new_data])\n",
    "print(f'Burn Rate: {pred}')"
   ]
  },
  {
   "cell_type": "code",
   "execution_count": null,
   "metadata": {},
   "outputs": [],
   "source": [
    "new_data = [1, 1, 1, 1, 3, 2.6]\n",
    "\n",
    "pred = pipe.predict([new_data])\n",
    "print(f'Burn Rate: {pred}')\n"
   ]
  },
  {
   "cell_type": "code",
   "execution_count": 158,
   "metadata": {},
   "outputs": [
    {
     "name": "stdout",
     "output_type": "stream",
     "text": [
      "Burn Rate: [0.61577179]\n"
     ]
    }
   ],
   "source": [
    "new_data = [0, 1, 0, 8, 5, 6.7]\n",
    "\n",
    "pred = pipe.predict([new_data])\n",
    "print(f'Burn Rate: {pred}')"
   ]
  },
  {
   "cell_type": "code",
   "execution_count": null,
   "metadata": {},
   "outputs": [],
   "source": [
    "new_data = [1, 1, 0, 1, 1, 3.5]\n",
    "\n",
    "pred = pipe.predict([new_data])\n",
    "print(f'Burn Rate: {pred}')"
   ]
  },
  {
   "cell_type": "code",
   "execution_count": null,
   "metadata": {},
   "outputs": [
    {
     "name": "stdout",
     "output_type": "stream",
     "text": [
      "Calculate your Burn Rate. Enter your info below\n",
      "* Your Burn Rate will be on a scale between 0-1\n"
     ]
    }
   ],
   "source": [
    "print('Calculate your Burn Rate. Enter your info below')\n",
    "print('* Your Burn Rate will be on a scale between 0-1')\n",
    "\n",
    "user_input = []\n",
    "\n",
    "while True:\n",
    "    \n",
    "    gender = input('Enter your gender. 0 = male, 1 = female')\n",
    "    user_input.append(gender)\n",
    "    \n",
    "    company_type = input('Enter your company type. 0 = service, 1 = product')\n",
    "    user_input.append(company_type)\n",
    "    \n",
    "    wfh = input('Do you have a \"Work From Home\" setup?. 0 = No, 1 = yes')\n",
    "    user_input.append(wfh)\n",
    "    \n",
    "    designation = input('Rank your position in your workplace. range 0-5. Low - High, whole numbers only')\n",
    "    user_input.append(designation)\n",
    "    \n",
    "    resource_allocation = input('How many hours do you work in a day? range 0-10, whole numbers only')\n",
    "    user_input.append(resource_allocation)\n",
    "    \n",
    "    mental_fatigue = input('Rank your mental fatigue. 0.0 - 10.0')\n",
    "    user_input.append(mental_fatigue)\n",
    "    \n",
    "    break\n",
    "    \n",
    "print(f'Your inputs: {user_input}')\n",
    "\n",
    "pred = pipe.predict([user_input])\n",
    "print(f'Your Burn Rate is: {pred}')\n"
   ]
  },
  {
   "cell_type": "code",
   "execution_count": 157,
   "metadata": {},
   "outputs": [
    {
     "name": "stdout",
     "output_type": "stream",
     "text": [
      "Your Burn Rate is: [0.3979046]\n"
     ]
    }
   ],
   "source": [
    "pred = pipe.predict([user_input])\n",
    "print(f'Your Burn Rate is: {pred}')"
   ]
  },
  {
   "cell_type": "code",
   "execution_count": null,
   "metadata": {},
   "outputs": [],
   "source": []
  },
  {
   "cell_type": "code",
   "execution_count": null,
   "metadata": {},
   "outputs": [],
   "source": []
  },
  {
   "cell_type": "code",
   "execution_count": null,
   "metadata": {},
   "outputs": [],
   "source": []
  }
 ],
 "metadata": {
  "kernelspec": {
   "display_name": "Python 3",
   "language": "python",
   "name": "python3"
  },
  "language_info": {
   "codemirror_mode": {
    "name": "ipython",
    "version": 3
   },
   "file_extension": ".py",
   "mimetype": "text/x-python",
   "name": "python",
   "nbconvert_exporter": "python",
   "pygments_lexer": "ipython3",
   "version": "3.8.3"
  }
 },
 "nbformat": 4,
 "nbformat_minor": 4
}
